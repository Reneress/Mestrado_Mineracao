{
  "nbformat": 4,
  "nbformat_minor": 0,
  "metadata": {
    "colab": {
      "provenance": [],
      "include_colab_link": true
    },
    "kernelspec": {
      "name": "python3",
      "display_name": "Python 3"
    },
    "language_info": {
      "name": "python"
    }
  },
  "cells": [
    {
      "cell_type": "markdown",
      "metadata": {
        "id": "view-in-github",
        "colab_type": "text"
      },
      "source": [
        "<a href=\"https://colab.research.google.com/github/Reneress/Mestrado_Mineracao/blob/main/Atividade_1_leonardo_Vinicius.ipynb\" target=\"_parent\"><img src=\"https://colab.research.google.com/assets/colab-badge.svg\" alt=\"Open In Colab\"/></a>"
      ]
    },
    {
      "cell_type": "markdown",
      "source": [
        "# 📊 Atividade 1 - Pré-Processamento: Análise do Dataset Census Income\n",
        "\n",
        "## 📝 Introdução\n",
        "Este projeto tem como objetivo realizar o pré-processamento do *Census Income Dataset* (Adult Dataset). O foco será tratar valores ausentes, codificar variáveis categóricas e normalizar os dados numéricos, preparando o dataset para análises e modelagem preditiva futuras.\n",
        "\n",
        "## 📁 Descrição do Conjunto de Dados\n",
        "- **Nome do Dataset:** Census Income (Adult Dataset)\n",
        "- **Número de Instâncias:** 32.561\n",
        "- **Número de Atributos:** 14\n",
        "- **Tipos de Atributos:** Categóricos e Numéricos\n",
        "- **Tarefa Associada:** Classificação\n",
        "- **Variável Alvo:** `income` (<=50K ou >50K)\n",
        "\n",
        "## 🔍 Análise Exploratória\n",
        "### Visualização Inicial dos Dados\n",
        "Será realizada uma análise inicial para entender a estrutura do dataset e suas variáveis principais, identificando possíveis valores ausentes.\n",
        "\n",
        "## 🛠️ Pré-processamento de Dados\n",
        "### Tratamento de Valores Ausentes\n",
        "Substituição ou remoção de valores ausentes nas colunas categóricas utilizando a estratégia de imputação mais adequada.\n",
        "\n",
        "### Codificação de Variáveis Categóricas\n",
        "Aplicação de One-Hot Encoding para transformar variáveis categóricas em numéricas, facilitando a análise e a modelagem.\n",
        "\n",
        "### Escalonamento de Variáveis Numéricas\n",
        "Normalização ou padronização das variáveis numéricas para garantir consistência nos dados, preparando-os para modelos preditivos.\n",
        "\n",
        "## 📊 Visualização dos Dados\n",
        "Análise das distribuições das variáveis e das correlações entre elas, utilizando visualizações gráficas como pair plots e heatmaps.\n",
        "\n",
        "## 📝 Conclusão\n",
        "O pré-processamento do *Census Income Dataset* foi realizado com sucesso, permitindo que os dados estejam prontos para futuras análises e modelagens preditivas.\n",
        "\n"
      ],
      "metadata": {
        "id": "W4AebHU15UIe"
      }
    },
    {
      "cell_type": "code",
      "execution_count": null,
      "metadata": {
        "colab": {
          "base_uri": "https://localhost:8080/"
        },
        "id": "eoTuK_1ky7fM",
        "outputId": "6b8622d2-f1bd-4b88-8473-d21ca757ee92"
      },
      "outputs": [
        {
          "output_type": "stream",
          "name": "stdout",
          "text": [
            "Drive already mounted at /content/drive; to attempt to forcibly remount, call drive.mount(\"/content/drive\", force_remount=True).\n"
          ]
        }
      ],
      "source": [
        "from google.colab import drive\n",
        "drive.mount('/content/drive')"
      ]
    },
    {
      "cell_type": "code",
      "source": [
        "import pandas as pd\n",
        "import numpy as np\n",
        "from sklearn.decomposition import PCA\n",
        "import seaborn as sns\n",
        "import matplotlib.pyplot as plt"
      ],
      "metadata": {
        "id": "4NAGPX8k6k5S"
      },
      "execution_count": null,
      "outputs": []
    },
    {
      "cell_type": "code",
      "source": [
        "\n",
        "# Caminho para o arquivo\n",
        "# file = '/content/drive/My Drive/0-Dataset/Mineração/Atividade/adult.data'\n",
        "file = '/content/drive/MyDrive/Mestrado/Base de dados/adult.data'\n",
        "\n",
        "column_names = ['age', 'workclass', 'fnlwgt', 'education', 'education-num',\n",
        "                'marital-status', 'occupation', 'relationship', 'race', 'sex',\n",
        "                'capital-gain', 'capital-loss', 'hours-per-week', 'native-country', 'income']\n",
        "\n",
        "df = pd.read_csv(file, sep=',', names=column_names, na_values=' ?', low_memory=False)\n",
        "\n",
        "# Verificar as primeiras linhas e as colunas\n",
        "print(df.head(10))\n",
        "print(df.info())\n",
        "print(df.isnull().sum())"
      ],
      "metadata": {
        "colab": {
          "base_uri": "https://localhost:8080/"
        },
        "id": "h8UYu-s23UQc",
        "outputId": "3355f743-8fa4-49b8-b48a-ea532f3190af"
      },
      "execution_count": null,
      "outputs": [
        {
          "output_type": "stream",
          "name": "stdout",
          "text": [
            "   age          workclass  fnlwgt   education  education-num  \\\n",
            "0   39          State-gov   77516   Bachelors             13   \n",
            "1   50   Self-emp-not-inc   83311   Bachelors             13   \n",
            "2   38            Private  215646     HS-grad              9   \n",
            "3   53            Private  234721        11th              7   \n",
            "4   28            Private  338409   Bachelors             13   \n",
            "5   37            Private  284582     Masters             14   \n",
            "6   49            Private  160187         9th              5   \n",
            "7   52   Self-emp-not-inc  209642     HS-grad              9   \n",
            "8   31            Private   45781     Masters             14   \n",
            "9   42            Private  159449   Bachelors             13   \n",
            "\n",
            "           marital-status          occupation    relationship    race  \\\n",
            "0           Never-married        Adm-clerical   Not-in-family   White   \n",
            "1      Married-civ-spouse     Exec-managerial         Husband   White   \n",
            "2                Divorced   Handlers-cleaners   Not-in-family   White   \n",
            "3      Married-civ-spouse   Handlers-cleaners         Husband   Black   \n",
            "4      Married-civ-spouse      Prof-specialty            Wife   Black   \n",
            "5      Married-civ-spouse     Exec-managerial            Wife   White   \n",
            "6   Married-spouse-absent       Other-service   Not-in-family   Black   \n",
            "7      Married-civ-spouse     Exec-managerial         Husband   White   \n",
            "8           Never-married      Prof-specialty   Not-in-family   White   \n",
            "9      Married-civ-spouse     Exec-managerial         Husband   White   \n",
            "\n",
            "       sex  capital-gain  capital-loss  hours-per-week  native-country  income  \n",
            "0     Male          2174             0              40   United-States   <=50K  \n",
            "1     Male             0             0              13   United-States   <=50K  \n",
            "2     Male             0             0              40   United-States   <=50K  \n",
            "3     Male             0             0              40   United-States   <=50K  \n",
            "4   Female             0             0              40            Cuba   <=50K  \n",
            "5   Female             0             0              40   United-States   <=50K  \n",
            "6   Female             0             0              16         Jamaica   <=50K  \n",
            "7     Male             0             0              45   United-States    >50K  \n",
            "8   Female         14084             0              50   United-States    >50K  \n",
            "9     Male          5178             0              40   United-States    >50K  \n",
            "<class 'pandas.core.frame.DataFrame'>\n",
            "RangeIndex: 32561 entries, 0 to 32560\n",
            "Data columns (total 15 columns):\n",
            " #   Column          Non-Null Count  Dtype \n",
            "---  ------          --------------  ----- \n",
            " 0   age             32561 non-null  int64 \n",
            " 1   workclass       30725 non-null  object\n",
            " 2   fnlwgt          32561 non-null  int64 \n",
            " 3   education       32561 non-null  object\n",
            " 4   education-num   32561 non-null  int64 \n",
            " 5   marital-status  32561 non-null  object\n",
            " 6   occupation      30718 non-null  object\n",
            " 7   relationship    32561 non-null  object\n",
            " 8   race            32561 non-null  object\n",
            " 9   sex             32561 non-null  object\n",
            " 10  capital-gain    32561 non-null  int64 \n",
            " 11  capital-loss    32561 non-null  int64 \n",
            " 12  hours-per-week  32561 non-null  int64 \n",
            " 13  native-country  31978 non-null  object\n",
            " 14  income          32561 non-null  object\n",
            "dtypes: int64(6), object(9)\n",
            "memory usage: 3.7+ MB\n",
            "None\n",
            "age                  0\n",
            "workclass         1836\n",
            "fnlwgt               0\n",
            "education            0\n",
            "education-num        0\n",
            "marital-status       0\n",
            "occupation        1843\n",
            "relationship         0\n",
            "race                 0\n",
            "sex                  0\n",
            "capital-gain         0\n",
            "capital-loss         0\n",
            "hours-per-week       0\n",
            "native-country     583\n",
            "income               0\n",
            "dtype: int64\n"
          ]
        }
      ]
    },
    {
      "cell_type": "markdown",
      "source": [
        "📊 Verificação de Normalidade\n"
      ],
      "metadata": {
        "id": "z4H5L7JP5vWC"
      }
    },
    {
      "cell_type": "markdown",
      "source": [
        "Testes de Normalidade\n",
        "Testes de normalidade (Shapiro-Wilk e KS-Test) foram realizados para verificar se os dados seguem uma distribuição normal."
      ],
      "metadata": {
        "id": "eBUZbZ7Z5ztP"
      }
    },
    {
      "cell_type": "code",
      "source": [
        "from scipy.stats import shapiro, kstest\n",
        "\n",
        "# Teste de Shapiro-Wilk\n",
        "stat, p = shapiro(df['age'])\n",
        "print('Estatística=%.3f, p=%.3f' % (stat, p))\n",
        "if p > 0.05:\n",
        "    print('Amostra segue a distribuição normal (não rejeita H0)')\n",
        "else:\n",
        "    print('Amostra não segue a distribuição normal (rejeita H0)')\n",
        "\n",
        "# Teste KS\n",
        "stat, p = kstest(df['age'], 'norm')\n",
        "print('Estatística=%.3f, p=%.3f' % (stat, p))\n",
        "if p > 0.05:\n",
        "    print('Amostra segue a distribuição normal (não rejeita H0)')\n",
        "else:\n",
        "    print('Amostra não segue a distribuição normal (rejeita H0)')\n"
      ],
      "metadata": {
        "colab": {
          "base_uri": "https://localhost:8080/"
        },
        "id": "W-0V-TB65vuZ",
        "outputId": "2868a6a2-62f2-4463-8850-ea4002d02a45"
      },
      "execution_count": null,
      "outputs": [
        {
          "output_type": "stream",
          "name": "stdout",
          "text": [
            "Estatística=0.967, p=0.000\n",
            "Amostra não segue a distribuição normal (rejeita H0)\n",
            "Estatística=1.000, p=0.000\n",
            "Amostra não segue a distribuição normal (rejeita H0)\n"
          ]
        },
        {
          "output_type": "stream",
          "name": "stderr",
          "text": [
            "/usr/local/lib/python3.10/dist-packages/scipy/stats/_axis_nan_policy.py:531: UserWarning: scipy.stats.shapiro: For N > 5000, computed p-value may not be accurate. Current N is 32561.\n",
            "  res = hypotest_fun_out(*samples, **kwds)\n"
          ]
        }
      ]
    },
    {
      "cell_type": "markdown",
      "source": [
        "Gráficos de Probabilidade\n",
        "Gráficos de probabilidade foram gerados para checar a suposição de normalidade dos dados."
      ],
      "metadata": {
        "id": "nK8VmHW051yC"
      }
    },
    {
      "cell_type": "code",
      "source": [
        "import matplotlib.pyplot as plt\n",
        "import scipy.stats as stats\n",
        "\n",
        "# Gráfico de probabilidade da Normal\n",
        "stats.probplot(df['age'], plot=plt)\n",
        "plt.show()\n"
      ],
      "metadata": {
        "colab": {
          "base_uri": "https://localhost:8080/",
          "height": 472
        },
        "id": "Ook8sKef52Ge",
        "outputId": "d0ea7d52-5ac9-4661-bb5f-81fde54f9294"
      },
      "execution_count": null,
      "outputs": [
        {
          "output_type": "display_data",
          "data": {
            "text/plain": [
              "<Figure size 640x480 with 1 Axes>"
            ],
            "image/png": "[encoded data removed]"
          },
          "metadata": {}
        }
      ]
    },
    {
      "cell_type": "markdown",
      "source": [
        "## Verificar Valores Faltantes"
      ],
      "metadata": {
        "id": "59Lz3QeN7FIN"
      }
    },
    {
      "cell_type": "code",
      "source": [
        "#Quantidade de valores faltantes\n",
        "valores_faltantes = df.isnull().sum()\n",
        "print(valores_faltantes)\n",
        "\n",
        "# Calcular a porcentagem de valores faltantes em cada coluna\n",
        "percentual_faltantes = df.isnull().mean() * 100\n",
        "\n",
        "# Filtrar apenas as colunas que possuem valores faltantes\n",
        "colunas_faltantes = percentual_faltantes[percentual_faltantes > 0].sort_values(ascending=False)\n",
        "\n",
        "# Exibir a porcentagem de valores faltantes por coluna\n",
        "print(\"Porcentagem de valores faltantes por coluna:\")\n",
        "print(colunas_faltantes)\n",
        "\n",
        "# Visualização com gráfico de barras\n",
        "plt.figure(figsize=(12, 8))\n",
        "colunas_faltantes.plot(kind='bar', color='orange')\n",
        "plt.title('Percentual de Valores Faltantes por Coluna')\n",
        "plt.xlabel('Colunas')\n",
        "plt.ylabel('Percentual de Valores Faltantes (%)')\n",
        "plt.xticks(rotation=45, ha='right')\n",
        "plt.show()"
      ],
      "metadata": {
        "colab": {
          "base_uri": "https://localhost:8080/",
          "height": 1000
        },
        "id": "kUhXrjaxC2wc",
        "outputId": "2699ff86-eccb-4b1b-e06b-073bd3fb95ce"
      },
      "execution_count": null,
      "outputs": [
        {
          "output_type": "stream",
          "name": "stdout",
          "text": [
            "age                  0\n",
            "workclass         1836\n",
            "fnlwgt               0\n",
            "education            0\n",
            "education-num        0\n",
            "marital-status       0\n",
            "occupation        1843\n",
            "relationship         0\n",
            "race                 0\n",
            "sex                  0\n",
            "capital-gain         0\n",
            "capital-loss         0\n",
            "hours-per-week       0\n",
            "native-country     583\n",
            "income               0\n",
            "dtype: int64\n",
            "Porcentagem de valores faltantes por coluna:\n",
            "occupation        5.660146\n",
            "workclass         5.638647\n",
            "native-country    1.790486\n",
            "dtype: float64\n"
          ]
        },
        {
          "output_type": "display_data",
          "data": {
            "text/plain": [
              "<Figure size 1200x800 with 1 Axes>"
            ],
            "image/png": "[encoded data removed]"
          },
          "metadata": {}
        }
      ]
    },
    {
      "cell_type": "markdown",
      "source": [
        "## PCA"
      ],
      "metadata": {
        "id": "RcKG9pHA7gDO"
      }
    },
    {
      "cell_type": "code",
      "source": [
        "import pandas as pd\n",
        "from sklearn.decomposition import PCA\n",
        "from sklearn.preprocessing import StandardScaler, OneHotEncoder\n",
        "from sklearn.compose import ColumnTransformer\n",
        "from sklearn.pipeline import Pipeline\n",
        "import matplotlib.pyplot as plt\n",
        "\n",
        "\n",
        "# Passo 1: Tratar valores faltantes em variáveis categóricas\n",
        "# Substituindo valores faltantes pela moda (a categoria mais frequente)\n",
        "for col in df.select_dtypes(include=['object', 'category']).columns:\n",
        "    df[col].fillna(df[col].mode()[0], inplace=True)\n",
        "\n",
        "# Passo 2: Separar variáveis categóricas e numéricas\n",
        "colunas_categoricas = df.select_dtypes(include=['object', 'category']).columns\n",
        "colunas_numericas = df.select_dtypes(include=['float64', 'int64']).columns\n",
        "\n",
        "# Passo 3: Criar o transformador para variáveis categóricas e numéricas\n",
        "preprocessor = ColumnTransformer(\n",
        "    transformers=[\n",
        "        ('num', StandardScaler(), colunas_numericas),\n",
        "        ('cat', OneHotEncoder(), colunas_categoricas)\n",
        "    ]\n",
        ")\n",
        "\n",
        "# Passo 4: Criar o pipeline com PCA\n",
        "pipeline = Pipeline(steps=[\n",
        "    ('preprocessor', preprocessor),\n",
        "    ('pca', PCA(n_components=2))  # Ajuste o número de componentes principais conforme necessário\n",
        "])\n",
        "\n",
        "# Passo 5: Ajustar e transformar os dados\n",
        "componentes_principais = pipeline.fit_transform(df)\n",
        "\n",
        "# Passo 6: Criar um DataFrame com os componentes principais\n",
        "df_pca = pd.DataFrame(data=componentes_principais, columns=['PC1', 'PC2'])\n",
        "\n",
        "# Passo 7: Visualizar os componentes principais\n",
        "plt.figure(figsize=(10, 8))\n",
        "plt.scatter(df_pca['PC1'], df_pca['PC2'], c='blue', edgecolor='k', s=50)\n",
        "plt.xlabel('Componente Principal 1')\n",
        "plt.ylabel('Componente Principal 2')\n",
        "plt.title('PCA: Componente Principal 1 vs Componente Principal 2')\n",
        "plt.grid()\n",
        "plt.show()\n",
        "\n",
        "# Passo 8: Explicar a variância explicada por cada componente principal\n",
        "print(\"Variância explicada por cada componente principal:\")\n",
        "pca = pipeline.named_steps['pca']\n",
        "print(pca.explained_variance_ratio_)\n"
      ],
      "metadata": {
        "colab": {
          "base_uri": "https://localhost:8080/",
          "height": 356
        },
        "id": "jjXRYZ27D_t4",
        "outputId": "29e28edc-a277-401d-8127-2fde7e550897"
      },
      "execution_count": null,
      "outputs": [
        {
          "output_type": "error",
          "ename": "TypeError",
          "evalue": "PCA does not support sparse input. See TruncatedSVD for a possible alternative.",
          "traceback": [
            "\u001b[0;31m---------------------------------------------------------------------------\u001b[0m",
            "\u001b[0;31mTypeError\u001b[0m                                 Traceback (most recent call last)",
            "\u001b[0;32m<ipython-input-27-b6325f6e88ef>\u001b[0m in \u001b[0;36m<cell line: 33>\u001b[0;34m()\u001b[0m\n\u001b[1;32m     31\u001b[0m \u001b[0;34m\u001b[0m\u001b[0m\n\u001b[1;32m     32\u001b[0m \u001b[0;31m# Passo 5: Ajustar e transformar os dados\u001b[0m\u001b[0;34m\u001b[0m\u001b[0;34m\u001b[0m\u001b[0m\n\u001b[0;32m---> 33\u001b[0;31m \u001b[0mcomponentes_principais\u001b[0m \u001b[0;34m=\u001b[0m \u001b[0mpipeline\u001b[0m\u001b[0;34m.\u001b[0m\u001b[0mfit_transform\u001b[0m\u001b[0;34m(\u001b[0m\u001b[0mdf\u001b[0m\u001b[0;34m)\u001b[0m\u001b[0;34m\u001b[0m\u001b[0;34m\u001b[0m\u001b[0m\n\u001b[0m\u001b[1;32m     34\u001b[0m \u001b[0;34m\u001b[0m\u001b[0m\n\u001b[1;32m     35\u001b[0m \u001b[0;31m# Passo 6: Criar um DataFrame com os componentes principais\u001b[0m\u001b[0;34m\u001b[0m\u001b[0;34m\u001b[0m\u001b[0m\n",
            "\u001b[0;32m/usr/local/lib/python3.10/dist-packages/sklearn/base.py\u001b[0m in \u001b[0;36mwrapper\u001b[0;34m(estimator, *args, **kwargs)\u001b[0m\n\u001b[1;32m   1150\u001b[0m                 )\n\u001b[1;32m   1151\u001b[0m             ):\n\u001b[0;32m-> 1152\u001b[0;31m                 \u001b[0;32mreturn\u001b[0m \u001b[0mfit_method\u001b[0m\u001b[0;34m(\u001b[0m\u001b[0mestimator\u001b[0m\u001b[0;34m,\u001b[0m \u001b[0;34m*\u001b[0m\u001b[0margs\u001b[0m\u001b[0;34m,\u001b[0m \u001b[0;34m**\u001b[0m\u001b[0mkwargs\u001b[0m\u001b[0;34m)\u001b[0m\u001b[0;34m\u001b[0m\u001b[0;34m\u001b[0m\u001b[0m\n\u001b[0m\u001b[1;32m   1153\u001b[0m \u001b[0;34m\u001b[0m\u001b[0m\n\u001b[1;32m   1154\u001b[0m         \u001b[0;32mreturn\u001b[0m \u001b[0mwrapper\u001b[0m\u001b[0;34m\u001b[0m\u001b[0;34m\u001b[0m\u001b[0m\n",
            "\u001b[0;32m/usr/local/lib/python3.10/dist-packages/sklearn/pipeline.py\u001b[0m in \u001b[0;36mfit_transform\u001b[0;34m(self, X, y, **fit_params)\u001b[0m\n\u001b[1;32m    477\u001b[0m             \u001b[0mfit_params_last_step\u001b[0m \u001b[0;34m=\u001b[0m \u001b[0mfit_params_steps\u001b[0m\u001b[0;34m[\u001b[0m\u001b[0mself\u001b[0m\u001b[0;34m.\u001b[0m\u001b[0msteps\u001b[0m\u001b[0;34m[\u001b[0m\u001b[0;34m-\u001b[0m\u001b[0;36m1\u001b[0m\u001b[0;34m]\u001b[0m\u001b[0;34m[\u001b[0m\u001b[0;36m0\u001b[0m\u001b[0;34m]\u001b[0m\u001b[0;34m]\u001b[0m\u001b[0;34m\u001b[0m\u001b[0;34m\u001b[0m\u001b[0m\n\u001b[1;32m    478\u001b[0m             \u001b[0;32mif\u001b[0m \u001b[0mhasattr\u001b[0m\u001b[0;34m(\u001b[0m\u001b[0mlast_step\u001b[0m\u001b[0;34m,\u001b[0m \u001b[0;34m\"fit_transform\"\u001b[0m\u001b[0;34m)\u001b[0m\u001b[0;34m:\u001b[0m\u001b[0;34m\u001b[0m\u001b[0;34m\u001b[0m\u001b[0m\n\u001b[0;32m--> 479\u001b[0;31m                 \u001b[0;32mreturn\u001b[0m \u001b[0mlast_step\u001b[0m\u001b[0;34m.\u001b[0m\u001b[0mfit_transform\u001b[0m\u001b[0;34m(\u001b[0m\u001b[0mXt\u001b[0m\u001b[0;34m,\u001b[0m \u001b[0my\u001b[0m\u001b[0;34m,\u001b[0m \u001b[0;34m**\u001b[0m\u001b[0mfit_params_last_step\u001b[0m\u001b[0;34m)\u001b[0m\u001b[0;34m\u001b[0m\u001b[0;34m\u001b[0m\u001b[0m\n\u001b[0m\u001b[1;32m    480\u001b[0m             \u001b[0;32melse\u001b[0m\u001b[0;34m:\u001b[0m\u001b[0;34m\u001b[0m\u001b[0;34m\u001b[0m\u001b[0m\n\u001b[1;32m    481\u001b[0m                 \u001b[0;32mreturn\u001b[0m \u001b[0mlast_step\u001b[0m\u001b[0;34m.\u001b[0m\u001b[0mfit\u001b[0m\u001b[0;34m(\u001b[0m\u001b[0mXt\u001b[0m\u001b[0;34m,\u001b[0m \u001b[0my\u001b[0m\u001b[0;34m,\u001b[0m \u001b[0;34m**\u001b[0m\u001b[0mfit_params_last_step\u001b[0m\u001b[0;34m)\u001b[0m\u001b[0;34m.\u001b[0m\u001b[0mtransform\u001b[0m\u001b[0;34m(\u001b[0m\u001b[0mXt\u001b[0m\u001b[0;34m)\u001b[0m\u001b[0;34m\u001b[0m\u001b[0;34m\u001b[0m\u001b[0m\n",
            "\u001b[0;32m/usr/local/lib/python3.10/dist-packages/sklearn/utils/_set_output.py\u001b[0m in \u001b[0;36mwrapped\u001b[0;34m(self, X, *args, **kwargs)\u001b[0m\n\u001b[1;32m    155\u001b[0m     \u001b[0;34m@\u001b[0m\u001b[0mwraps\u001b[0m\u001b[0;34m(\u001b[0m\u001b[0mf\u001b[0m\u001b[0;34m)\u001b[0m\u001b[0;34m\u001b[0m\u001b[0;34m\u001b[0m\u001b[0m\n\u001b[1;32m    156\u001b[0m     \u001b[0;32mdef\u001b[0m \u001b[0mwrapped\u001b[0m\u001b[0;34m(\u001b[0m\u001b[0mself\u001b[0m\u001b[0;34m,\u001b[0m \u001b[0mX\u001b[0m\u001b[0;34m,\u001b[0m \u001b[0;34m*\u001b[0m\u001b[0margs\u001b[0m\u001b[0;34m,\u001b[0m \u001b[0;34m**\u001b[0m\u001b[0mkwargs\u001b[0m\u001b[0;34m)\u001b[0m\u001b[0;34m:\u001b[0m\u001b[0;34m\u001b[0m\u001b[0;34m\u001b[0m\u001b[0m\n\u001b[0;32m--> 157\u001b[0;31m         \u001b[0mdata_to_wrap\u001b[0m \u001b[0;34m=\u001b[0m \u001b[0mf\u001b[0m\u001b[0;34m(\u001b[0m\u001b[0mself\u001b[0m\u001b[0;34m,\u001b[0m \u001b[0mX\u001b[0m\u001b[0;34m,\u001b[0m \u001b[0;34m*\u001b[0m\u001b[0margs\u001b[0m\u001b[0;34m,\u001b[0m \u001b[0;34m**\u001b[0m\u001b[0mkwargs\u001b[0m\u001b[0;34m)\u001b[0m\u001b[0;34m\u001b[0m\u001b[0;34m\u001b[0m\u001b[0m\n\u001b[0m\u001b[1;32m    158\u001b[0m         \u001b[0;32mif\u001b[0m \u001b[0misinstance\u001b[0m\u001b[0;34m(\u001b[0m\u001b[0mdata_to_wrap\u001b[0m\u001b[0;34m,\u001b[0m \u001b[0mtuple\u001b[0m\u001b[0;34m)\u001b[0m\u001b[0;34m:\u001b[0m\u001b[0;34m\u001b[0m\u001b[0;34m\u001b[0m\u001b[0m\n\u001b[1;32m    159\u001b[0m             \u001b[0;31m# only wrap the first output for cross decomposition\u001b[0m\u001b[0;34m\u001b[0m\u001b[0;34m\u001b[0m\u001b[0m\n",
            "\u001b[0;32m/usr/local/lib/python3.10/dist-packages/sklearn/base.py\u001b[0m in \u001b[0;36mwrapper\u001b[0;34m(estimator, *args, **kwargs)\u001b[0m\n\u001b[1;32m   1150\u001b[0m                 )\n\u001b[1;32m   1151\u001b[0m             ):\n\u001b[0;32m-> 1152\u001b[0;31m                 \u001b[0;32mreturn\u001b[0m \u001b[0mfit_method\u001b[0m\u001b[0;34m(\u001b[0m\u001b[0mestimator\u001b[0m\u001b[0;34m,\u001b[0m \u001b[0;34m*\u001b[0m\u001b[0margs\u001b[0m\u001b[0;34m,\u001b[0m \u001b[0;34m**\u001b[0m\u001b[0mkwargs\u001b[0m\u001b[0;34m)\u001b[0m\u001b[0;34m\u001b[0m\u001b[0;34m\u001b[0m\u001b[0m\n\u001b[0m\u001b[1;32m   1153\u001b[0m \u001b[0;34m\u001b[0m\u001b[0m\n\u001b[1;32m   1154\u001b[0m         \u001b[0;32mreturn\u001b[0m \u001b[0mwrapper\u001b[0m\u001b[0;34m\u001b[0m\u001b[0;34m\u001b[0m\u001b[0m\n",
            "\u001b[0;32m/usr/local/lib/python3.10/dist-packages/sklearn/decomposition/_pca.py\u001b[0m in \u001b[0;36mfit_transform\u001b[0;34m(self, X, y)\u001b[0m\n\u001b[1;32m    458\u001b[0m         \u001b[0mC\u001b[0m\u001b[0;34m-\u001b[0m\u001b[0mordered\u001b[0m \u001b[0marray\u001b[0m\u001b[0;34m,\u001b[0m \u001b[0muse\u001b[0m \u001b[0;34m'np.ascontiguousarray'\u001b[0m\u001b[0;34m.\u001b[0m\u001b[0;34m\u001b[0m\u001b[0;34m\u001b[0m\u001b[0m\n\u001b[1;32m    459\u001b[0m         \"\"\"\n\u001b[0;32m--> 460\u001b[0;31m         \u001b[0mU\u001b[0m\u001b[0;34m,\u001b[0m \u001b[0mS\u001b[0m\u001b[0;34m,\u001b[0m \u001b[0mVt\u001b[0m \u001b[0;34m=\u001b[0m \u001b[0mself\u001b[0m\u001b[0;34m.\u001b[0m\u001b[0m_fit\u001b[0m\u001b[0;34m(\u001b[0m\u001b[0mX\u001b[0m\u001b[0;34m)\u001b[0m\u001b[0;34m\u001b[0m\u001b[0;34m\u001b[0m\u001b[0m\n\u001b[0m\u001b[1;32m    461\u001b[0m         \u001b[0mU\u001b[0m \u001b[0;34m=\u001b[0m \u001b[0mU\u001b[0m\u001b[0;34m[\u001b[0m\u001b[0;34m:\u001b[0m\u001b[0;34m,\u001b[0m \u001b[0;34m:\u001b[0m \u001b[0mself\u001b[0m\u001b[0;34m.\u001b[0m\u001b[0mn_components_\u001b[0m\u001b[0;34m]\u001b[0m\u001b[0;34m\u001b[0m\u001b[0;34m\u001b[0m\u001b[0m\n\u001b[1;32m    462\u001b[0m \u001b[0;34m\u001b[0m\u001b[0m\n",
            "\u001b[0;32m/usr/local/lib/python3.10/dist-packages/sklearn/decomposition/_pca.py\u001b[0m in \u001b[0;36m_fit\u001b[0;34m(self, X)\u001b[0m\n\u001b[1;32m    476\u001b[0m         \u001b[0;31m# This is more informative than the generic one raised by check_array.\u001b[0m\u001b[0;34m\u001b[0m\u001b[0;34m\u001b[0m\u001b[0m\n\u001b[1;32m    477\u001b[0m         \u001b[0;32mif\u001b[0m \u001b[0missparse\u001b[0m\u001b[0;34m(\u001b[0m\u001b[0mX\u001b[0m\u001b[0;34m)\u001b[0m\u001b[0;34m:\u001b[0m\u001b[0;34m\u001b[0m\u001b[0;34m\u001b[0m\u001b[0m\n\u001b[0;32m--> 478\u001b[0;31m             raise TypeError(\n\u001b[0m\u001b[1;32m    479\u001b[0m                 \u001b[0;34m\"PCA does not support sparse input. See \"\u001b[0m\u001b[0;34m\u001b[0m\u001b[0;34m\u001b[0m\u001b[0m\n\u001b[1;32m    480\u001b[0m                 \u001b[0;34m\"TruncatedSVD for a possible alternative.\"\u001b[0m\u001b[0;34m\u001b[0m\u001b[0;34m\u001b[0m\u001b[0m\n",
            "\u001b[0;31mTypeError\u001b[0m: PCA does not support sparse input. See TruncatedSVD for a possible alternative."
          ]
        }
      ]
    }
  ]
}