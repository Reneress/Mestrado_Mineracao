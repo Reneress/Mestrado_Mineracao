{
  "nbformat": 4,
  "nbformat_minor": 0,
  "metadata": {
    "colab": {
      "provenance": [],
      "include_colab_link": true
    },
    "kernelspec": {
      "name": "python3",
      "display_name": "Python 3"
    },
    "language_info": {
      "name": "python"
    }
  },
  "cells": [
    {
      "cell_type": "markdown",
      "metadata": {
        "id": "view-in-github",
        "colab_type": "text"
      },
      "source": [
        "<a href=\"https://colab.research.google.com/github/Reneress/Mestrado_Mineracao/blob/main/Atividade2_Leonardo_Vinicius.ipynb\" target=\"_parent\"><img src=\"https://colab.research.google.com/assets/colab-badge.svg\" alt=\"Open In Colab\"/></a>"
      ]
    },
    {
      "cell_type": "markdown",
      "source": [
        "\n",
        "## 1. Objetivos da Atividade 🎯\n",
        "\n",
        "Os principais objetivos da **Atividade 2** são:\n",
        "\n",
        "- Aplicar diferentes algoritmos de classificação (**Árvore de Decisão**, **Bagging**, **Boosting** e **Random Forest**).\n",
        "- Comparar os resultados dos algoritmos utilizando técnicas de validação e medidas de desempenho, como **acurácia** e **F1-Score**.\n",
        "- Transformar o problema multiclasse em problemas binários utilizando as abordagens **OVA (One-vs-All)** e **OVO (One-vs-One)**.\n",
        "- Realizar o ajuste de hiperparâmetros para o algoritmo de melhor desempenho, verificando o impacto no resultado final.\n",
        "\n",
        "## 2. Descrição do Dataset 📊\n",
        "\n",
        "Para esta atividade, foi utilizado o dataset **\"Estimation of Obesity Levels Based On Eating Habits and Physical Condition\"**, que contém informações sobre os níveis de obesidade de indivíduos a partir de seus hábitos alimentares e condições físicas. Este conjunto de dados foi extraído de três países: **México**, **Peru** e **Colômbia**, e possui um total de **2111 instâncias** e **17 atributos**.\n",
        "\n",
        "### 2.1. Características do Dataset\n",
        "\n",
        "- **Tamanho do Dataset**: 2111 amostras.\n",
        "- **Número de Atributos**: 16 características preditivas e 1 variável alvo (**NObeyesdad**, que representa o nível de obesidade).\n",
        "- **Natureza das Variáveis**: As variáveis incluem tanto características **categóricas** (por exemplo, **Gênero**, **Histórico Familiar de Obesidade**) quanto **numéricas** (como **Idade**, **Peso**, **Altura**).\n",
        "\n",
        "### 2.2. Classes Alvo 🔢\n",
        "\n",
        "A variável alvo (**NObeyesdad**) é uma variável categórica que representa o nível de obesidade dos indivíduos e é composta pelas seguintes classes:\n",
        "\n",
        "1. **Insufficient Weight**\n",
        "2. **Normal Weight**\n",
        "3. **Overweight Level I**\n",
        "4. **Overweight Level II**\n",
        "5. **Obesity Type I**\n",
        "6. **Obesity Type II**\n",
        "7. **Obesity Type III**\n",
        "\n",
        "### 2.3. Aplicação Prática do Dataset\n",
        "\n",
        "Este dataset é ideal para a tarefa de classificação multiclasse, onde buscamos estimar o nível de obesidade dos indivíduos com base em seus hábitos alimentares e físicos. A tarefa envolvida nesta atividade permite explorar diferentes abordagens de classificação e técnicas de transformação de problemas multiclasse em binários (OVA e OVO), o que é fundamental para a compreensão de como os algoritmos se comportam em diferentes cenários.\n",
        "\n",
        "## 3. Conclusão 📌\n",
        "\n",
        "A **Atividade 2** proporciona uma oportunidade valiosa de aplicar algoritmos de machine learning a um problema real, utilizando dados relacionados à saúde pública. O dataset escolhido oferece uma complexidade adequada para o estudo de algoritmos de classificação, especialmente em um contexto multiclasse, permitindo uma análise aprofundada do desempenho dos modelos e suas respectivas abordagens (OVA e OVO).\n"
      ],
      "metadata": {
        "id": "5SDQXwnqwfM1"
      }
    },
    {
      "cell_type": "code",
      "execution_count": 36,
      "metadata": {
        "colab": {
          "base_uri": "https://localhost:8080/"
        },
        "id": "8FbAG7mz4wnw",
        "outputId": "95b3a727-054e-4315-a177-91ae9f1b898a"
      },
      "outputs": [
        {
          "output_type": "stream",
          "name": "stdout",
          "text": [
            "Drive already mounted at /content/drive; to attempt to forcibly remount, call drive.mount(\"/content/drive\", force_remount=True).\n"
          ]
        }
      ],
      "source": [
        "from google.colab import drive\n",
        "drive.mount('/content/drive')"
      ]
    },
    {
      "cell_type": "code",
      "source": [
        "import pandas as pd\n",
        "import numpy as np\n",
        "from sklearn.model_selection import train_test_split, GridSearchCV\n",
        "from sklearn.tree import DecisionTreeClassifier\n",
        "from sklearn.ensemble import BaggingClassifier, AdaBoostClassifier, RandomForestClassifier\n",
        "from sklearn.metrics import accuracy_score, f1_score\n",
        "from sklearn.multiclass import OneVsRestClassifier, OneVsOneClassifier\n",
        "from sklearn.preprocessing import LabelEncoder\n",
        "import warnings\n",
        "warnings.simplefilter(action='ignore', category=FutureWarning)"
      ],
      "metadata": {
        "id": "RK8MtJUo5M98"
      },
      "execution_count": 37,
      "outputs": []
    },
    {
      "cell_type": "markdown",
      "source": [
        "##Carregar Conjunto de Dados"
      ],
      "metadata": {
        "id": "BcXE-4Wy7TJS"
      }
    },
    {
      "cell_type": "code",
      "source": [
        "\n",
        "data = pd.read_csv('/content/drive/MyDrive/Mestrado/Mineracao/Atividade 2/Base de dados/ObesityDataSet_raw_and_data_sinthetic.csv')\n",
        "\n",
        "\n",
        "\n",
        "# transformar as classes categóricas em numéricas\n",
        "label_encoder = LabelEncoder()\n",
        "\n",
        "# Identificar colunas categóricas\n",
        "categorical_cols = data.select_dtypes(include=['object']).columns\n",
        "\n",
        "# Aplicar o LabelEncoder a todas as colunas categóricas\n",
        "for col in categorical_cols:\n",
        "    data[col] = label_encoder.fit_transform(data[col])\n",
        "\n",
        "print(data.info)\n",
        "print(data.head(10))\n",
        "print(data.dtypes)\n",
        "\n",
        "X = data.drop('NObeyesdad', axis=1)\n",
        "y = data['NObeyesdad']"
      ],
      "metadata": {
        "colab": {
          "base_uri": "https://localhost:8080/"
        },
        "id": "ThW1TiQx5SPB",
        "outputId": "3ec86372-1135-4431-c3df-d05abe64d480"
      },
      "execution_count": 38,
      "outputs": [
        {
          "output_type": "stream",
          "name": "stdout",
          "text": [
            "<bound method DataFrame.info of       Gender        Age    Height      Weight  family_history_with_overweight  \\\n",
            "0          0  21.000000  1.620000   64.000000                               1   \n",
            "1          0  21.000000  1.520000   56.000000                               1   \n",
            "2          1  23.000000  1.800000   77.000000                               1   \n",
            "3          1  27.000000  1.800000   87.000000                               0   \n",
            "4          1  22.000000  1.780000   89.800000                               0   \n",
            "...      ...        ...       ...         ...                             ...   \n",
            "2106       0  20.976842  1.710730  131.408528                               1   \n",
            "2107       0  21.982942  1.748584  133.742943                               1   \n",
            "2108       0  22.524036  1.752206  133.689352                               1   \n",
            "2109       0  24.361936  1.739450  133.346641                               1   \n",
            "2110       0  23.664709  1.738836  133.472641                               1   \n",
            "\n",
            "      FAVC  FCVC  NCP  CAEC  SMOKE      CH2O  SCC       FAF       TUE  CALC  \\\n",
            "0        0   2.0  3.0     2      0  2.000000    0  0.000000  1.000000     3   \n",
            "1        0   3.0  3.0     2      1  3.000000    1  3.000000  0.000000     2   \n",
            "2        0   2.0  3.0     2      0  2.000000    0  2.000000  1.000000     1   \n",
            "3        0   3.0  3.0     2      0  2.000000    0  2.000000  0.000000     1   \n",
            "4        0   2.0  1.0     2      0  2.000000    0  0.000000  0.000000     2   \n",
            "...    ...   ...  ...   ...    ...       ...  ...       ...       ...   ...   \n",
            "2106     1   3.0  3.0     2      0  1.728139    0  1.676269  0.906247     2   \n",
            "2107     1   3.0  3.0     2      0  2.005130    0  1.341390  0.599270     2   \n",
            "2108     1   3.0  3.0     2      0  2.054193    0  1.414209  0.646288     2   \n",
            "2109     1   3.0  3.0     2      0  2.852339    0  1.139107  0.586035     2   \n",
            "2110     1   3.0  3.0     2      0  2.863513    0  1.026452  0.714137     2   \n",
            "\n",
            "      MTRANS  NObeyesdad  \n",
            "0          3           1  \n",
            "1          3           1  \n",
            "2          3           1  \n",
            "3          4           5  \n",
            "4          3           6  \n",
            "...      ...         ...  \n",
            "2106       3           4  \n",
            "2107       3           4  \n",
            "2108       3           4  \n",
            "2109       3           4  \n",
            "2110       3           4  \n",
            "\n",
            "[2111 rows x 17 columns]>\n",
            "   Gender   Age  Height  Weight  family_history_with_overweight  FAVC  FCVC  \\\n",
            "0       0  21.0    1.62    64.0                               1     0   2.0   \n",
            "1       0  21.0    1.52    56.0                               1     0   3.0   \n",
            "2       1  23.0    1.80    77.0                               1     0   2.0   \n",
            "3       1  27.0    1.80    87.0                               0     0   3.0   \n",
            "4       1  22.0    1.78    89.8                               0     0   2.0   \n",
            "5       1  29.0    1.62    53.0                               0     1   2.0   \n",
            "6       0  23.0    1.50    55.0                               1     1   3.0   \n",
            "7       1  22.0    1.64    53.0                               0     0   2.0   \n",
            "8       1  24.0    1.78    64.0                               1     1   3.0   \n",
            "9       1  22.0    1.72    68.0                               1     1   2.0   \n",
            "\n",
            "   NCP  CAEC  SMOKE  CH2O  SCC  FAF  TUE  CALC  MTRANS  NObeyesdad  \n",
            "0  3.0     2      0   2.0    0  0.0  1.0     3       3           1  \n",
            "1  3.0     2      1   3.0    1  3.0  0.0     2       3           1  \n",
            "2  3.0     2      0   2.0    0  2.0  1.0     1       3           1  \n",
            "3  3.0     2      0   2.0    0  2.0  0.0     1       4           5  \n",
            "4  1.0     2      0   2.0    0  0.0  0.0     2       3           6  \n",
            "5  3.0     2      0   2.0    0  0.0  0.0     2       0           1  \n",
            "6  3.0     2      0   2.0    0  1.0  0.0     2       2           1  \n",
            "7  3.0     2      0   2.0    0  3.0  0.0     2       3           1  \n",
            "8  3.0     2      0   2.0    0  1.0  1.0     1       3           1  \n",
            "9  3.0     2      0   2.0    0  1.0  1.0     3       3           1  \n",
            "Gender                              int64\n",
            "Age                               float64\n",
            "Height                            float64\n",
            "Weight                            float64\n",
            "family_history_with_overweight      int64\n",
            "FAVC                                int64\n",
            "FCVC                              float64\n",
            "NCP                               float64\n",
            "CAEC                                int64\n",
            "SMOKE                               int64\n",
            "CH2O                              float64\n",
            "SCC                                 int64\n",
            "FAF                               float64\n",
            "TUE                               float64\n",
            "CALC                                int64\n",
            "MTRANS                              int64\n",
            "NObeyesdad                          int64\n",
            "dtype: object\n"
          ]
        }
      ]
    },
    {
      "cell_type": "markdown",
      "source": [
        "##Separar dados para Treinamento e Teste"
      ],
      "metadata": {
        "id": "GusELrwZ7ZUY"
      }
    },
    {
      "cell_type": "code",
      "source": [
        "X_train, X_test, y_train, y_test = train_test_split(X, y, test_size=0.3, random_state=42)\n"
      ],
      "metadata": {
        "id": "XIh9-Rqz6zyJ"
      },
      "execution_count": 39,
      "outputs": []
    },
    {
      "cell_type": "markdown",
      "source": [
        "##Aplicar Algoritmos e Avaliar"
      ],
      "metadata": {
        "id": "jK2NNimu7e7W"
      }
    },
    {
      "cell_type": "markdown",
      "source": [
        "###Árvore de Decisão"
      ],
      "metadata": {
        "id": "OIQmKQcs7lL0"
      }
    },
    {
      "cell_type": "code",
      "source": [
        "tree_model = DecisionTreeClassifier(random_state=42)\n",
        "tree_model.fit(X_train, y_train)\n",
        "y_pred_tree = tree_model.predict(X_test)\n",
        "acc_tree = accuracy_score(y_test, y_pred_tree)\n",
        "f1_tree = f1_score(y_test, y_pred_tree, average='weighted')\n"
      ],
      "metadata": {
        "id": "85sc2vm-7jRQ"
      },
      "execution_count": 40,
      "outputs": []
    },
    {
      "cell_type": "markdown",
      "source": [
        "###Bagging"
      ],
      "metadata": {
        "id": "-SGPvMcm7qxQ"
      }
    },
    {
      "cell_type": "code",
      "source": [
        "bagging_model = BaggingClassifier(estimator=DecisionTreeClassifier(), random_state=42)\n",
        "bagging_model.fit(X_train, y_train)\n",
        "y_pred_bagging = bagging_model.predict(X_test)\n",
        "acc_bagging = accuracy_score(y_test, y_pred_bagging)\n",
        "f1_bagging = f1_score(y_test, y_pred_bagging, average='weighted')\n"
      ],
      "metadata": {
        "id": "ZBKBuF_m7s-r"
      },
      "execution_count": 41,
      "outputs": []
    },
    {
      "cell_type": "markdown",
      "source": [
        "###Boosting(AdaBoost)"
      ],
      "metadata": {
        "id": "9bd32lpF7-u0"
      }
    },
    {
      "cell_type": "code",
      "source": [
        "adaboost_model = AdaBoostClassifier(estimator=DecisionTreeClassifier(), random_state=42)\n",
        "adaboost_model.fit(X_train, y_train)\n",
        "y_pred_adaboost = adaboost_model.predict(X_test)\n",
        "acc_adaboost = accuracy_score(y_test, y_pred_adaboost)\n",
        "f1_adaboost = f1_score(y_test, y_pred_adaboost, average='weighted')\n"
      ],
      "metadata": {
        "id": "WJoaHQ2Z8Biu"
      },
      "execution_count": 42,
      "outputs": []
    },
    {
      "cell_type": "markdown",
      "source": [
        "###Random Forest"
      ],
      "metadata": {
        "id": "y_dEBSVH8Wgk"
      }
    },
    {
      "cell_type": "code",
      "source": [
        "rf_model = RandomForestClassifier(random_state=42)\n",
        "rf_model.fit(X_train, y_train)\n",
        "y_pred_rf = rf_model.predict(X_test)\n",
        "acc_rf = accuracy_score(y_test, y_pred_rf)\n",
        "f1_rf = f1_score(y_test, y_pred_rf, average='weighted')\n"
      ],
      "metadata": {
        "id": "RPxYoTKR8ZgW"
      },
      "execution_count": 43,
      "outputs": []
    },
    {
      "cell_type": "markdown",
      "source": [
        "##Avaliação do melhor resultado"
      ],
      "metadata": {
        "id": "Drwahb-e8cJk"
      }
    },
    {
      "cell_type": "code",
      "source": [
        "results = {\n",
        "    'Árvore de Decisão': (acc_tree, f1_tree),\n",
        "    'Bagging': (acc_bagging, f1_bagging),\n",
        "    'AdaBoost': (acc_adaboost, f1_adaboost),\n",
        "    'Random Forest': (acc_rf, f1_rf)\n",
        "}\n",
        "\n",
        "for model, scores in results.items():\n",
        "    print(f\"{model} -> Acurácia: {scores[0]:.4f}, F1: {scores[1]:.4f}\")\n"
      ],
      "metadata": {
        "colab": {
          "base_uri": "https://localhost:8080/"
        },
        "id": "zszOoSQc8eth",
        "outputId": "e3cb5cce-f3cd-448c-a5fe-e39e0445ff00"
      },
      "execution_count": 44,
      "outputs": [
        {
          "output_type": "stream",
          "name": "stdout",
          "text": [
            "Árvore de Decisão -> Acurácia: 0.9148, F1: 0.9145\n",
            "Bagging -> Acurácia: 0.9432, F1: 0.9431\n",
            "AdaBoost -> Acurácia: 0.9085, F1: 0.9079\n",
            "Random Forest -> Acurácia: 0.9432, F1: 0.9437\n"
          ]
        }
      ]
    },
    {
      "cell_type": "markdown",
      "source": [
        "##Ajuste de Hiperparâmetros no melhor modelo\n",
        "\n",
        "O melhor modelo encontrado foi de Random Forest"
      ],
      "metadata": {
        "id": "uiXr_0j-8sy2"
      }
    },
    {
      "cell_type": "code",
      "source": [
        "# Ajuste de Hiperparâmetros na Random Forest\n",
        "param_grid = {\n",
        "    'n_estimators': [50, 100, 200],\n",
        "    'max_depth': [None, 10, 20, 30],\n",
        "    'min_samples_split': [2, 5, 10]\n",
        "}\n",
        "\n",
        "grid_search = GridSearchCV(estimator=rf_model, param_grid=param_grid, cv=5, scoring='accuracy')\n",
        "grid_search.fit(X_train, y_train)\n",
        "best_rf_model = grid_search.best_estimator_\n",
        "y_pred_best_rf = best_rf_model.predict(X_test)\n",
        "acc_best_rf = accuracy_score(y_test, y_pred_best_rf)\n",
        "f1_best_rf = f1_score(y_test, y_pred_best_rf, average='weighted')\n",
        "\n",
        "print(f\"Melhor Random Forest -> Acurácia: {acc_best_rf:.4f}, F1: {f1_best_rf:.4f}\")\n"
      ],
      "metadata": {
        "id": "8ZhpNZJy80LE"
      },
      "execution_count": null,
      "outputs": []
    },
    {
      "cell_type": "markdown",
      "source": [
        "##Abordagens OVA e OVO"
      ],
      "metadata": {
        "id": "8BjyIWIa9uqD"
      }
    },
    {
      "cell_type": "markdown",
      "source": [
        "### OVA (One-vs-One): Transforme o problema multiclasse em problemas binários usando a estratégia One-vs-All. Isso significa que, para cada classe, você vai treinar um classificador que separa essa classe de todas as outras."
      ],
      "metadata": {
        "id": "zKIw4bQo9zmI"
      }
    },
    {
      "cell_type": "code",
      "source": [
        "ova_model = OneVsRestClassifier(DecisionTreeClassifier(random_state=42))\n",
        "ova_model.fit(X_train, y_train)\n",
        "y_pred_ova = ova_model.predict(X_test)\n",
        "acc_ova = accuracy_score(y_test, y_pred_ova)\n",
        "f1_ova = f1_score(y_test, y_pred_ova, average='weighted')\n"
      ],
      "metadata": {
        "id": "ZxLzh64k95a4"
      },
      "execution_count": null,
      "outputs": []
    },
    {
      "cell_type": "markdown",
      "source": [
        "###OVO (One-vs-One): Para a abordagem One-vs-One, você vai treinar um classificador para cada par de classes. Por exemplo, para três classes A, B, e C, você criará classificadores para A vs B, A vs C, e B vs C."
      ],
      "metadata": {
        "id": "Ru-60OZf97ai"
      }
    },
    {
      "cell_type": "code",
      "source": [
        "ovo_model = OneVsOneClassifier(DecisionTreeClassifier(random_state=42))\n",
        "ovo_model.fit(X_train, y_train)\n",
        "y_pred_ovo = ovo_model.predict(X_test)\n",
        "acc_ovo = accuracy_score(y_test, y_pred_ovo)\n",
        "f1_ovo = f1_score(y_test, y_pred_ovo, average='weighted')\n"
      ],
      "metadata": {
        "id": "VmCi717H9_DD"
      },
      "execution_count": null,
      "outputs": []
    },
    {
      "cell_type": "markdown",
      "source": [
        "### Comparação das duas abordagens"
      ],
      "metadata": {
        "id": "pZXjd9ap-BEs"
      }
    },
    {
      "cell_type": "code",
      "source": [
        "print(f\"OVA -> Acurácia: {acc_ova:.4f}, F1: {f1_ova:.4f}\")\n",
        "print(f\"OVO -> Acurácia: {acc_ovo:.4f}, F1: {f1_ovo:.4f}\")\n"
      ],
      "metadata": {
        "id": "-ZbrdHQ4-Et1"
      },
      "execution_count": null,
      "outputs": []
    },
    {
      "cell_type": "markdown",
      "source": [
        "# Análise de Resultados para OVA e OVO\n",
        "\n",
        "## 1. Introdução\n",
        "\n",
        "A seguir, são apresentados os resultados da aplicação das técnicas OVA (One-vs-All) e OVO (One-vs-One) utilizando um classificador de árvore de decisão. Para avaliar o desempenho dessas duas abordagens, foram utilizadas as métricas de **acurácia** e **F1-Score**.\n",
        "\n",
        "## 2. Resultados Obtidos\n",
        "\n",
        "- **OVA** (One-vs-All)  \n",
        "  - Acurácia: **0.8644**  \n",
        "  - F1-Score: **0.8688**\n",
        "\n",
        "- **OVO** (One-vs-One)  \n",
        "  - Acurácia: **0.9006**  \n",
        "  - F1-Score: **0.9006**\n",
        "\n",
        "## 3. Discussão dos Resultados\n",
        "\n",
        "### 3.1. Desempenho da Abordagem OVA 🤔\n",
        "\n",
        "Na abordagem **OVA (One-vs-All)**, o modelo de árvore de decisão obteve uma acurácia de **86.44%** e um F1-Score de **86.88%**. Embora seja um desempenho razoável, podemos observar que o modelo teve dificuldades em capturar com precisão as distinções entre todas as classes ao tratá-las de forma individual contra as demais. A técnica OVA tende a ser menos eficiente para problemas com muitas classes, pois o modelo precisa diferenciar uma classe contra todas as outras, o que pode gerar confusão entre classes próximas.\n",
        "\n",
        "### 3.2. Desempenho da Abordagem OVO 💡\n",
        "\n",
        "Por outro lado, a abordagem **OVO (One-vs-One)** apresentou uma **melhoria significativa** em ambas as métricas, com acurácia de **90.06%** e F1-Score de **90.06%**. Esse ganho de desempenho pode ser atribuído ao fato de que, no OVO, o modelo constrói classificadores para cada par de classes, resultando em uma maior capacidade de separar classes adjacentes de forma mais precisa. Isso reduz a confusão entre as classes e leva a um desempenho superior no conjunto de teste.\n",
        "\n",
        "### 3.3. Comparação OVA vs OVO 🔄\n",
        "\n",
        "Comparando as duas abordagens, a técnica **OVO** se mostrou superior tanto em termos de acurácia quanto de F1-Score. A abordagem **OVA** simplifica o problema, mas acaba perdendo eficiência na separação das classes. Já a abordagem **OVO**, embora mais complexa, consegue um desempenho **mais robusto**, especialmente em problemas multiclasse como este, onde as classes possuem características similares.\n",
        "\n",
        "## 4. Conclusão ✅\n",
        "\n",
        "Os resultados indicam que, para o dataset utilizado, a técnica **One-vs-One (OVO)** é a mais adequada, pois oferece melhor desempenho ao tratar as classes de forma mais detalhada, gerando menos confusão entre elas. Portanto, a abordagem OVO é a recomendada para este problema de classificação multiclasse.\n"
      ],
      "metadata": {
        "id": "PX6pPdxfwFw6"
      }
    },
    {
      "cell_type": "code",
      "source": [
        "import matplotlib.pyplot as plt\n",
        "import seaborn as sns\n",
        "from sklearn.metrics import confusion_matrix\n",
        "\n",
        "# Matriz de confusão para OVA\n",
        "cm_ova = confusion_matrix(y_test, y_pred_ova)\n",
        "\n",
        "# Plot da matriz de confusão\n",
        "plt.figure(figsize=(8, 6))\n",
        "sns.heatmap(cm_ova, annot=True, fmt='d', cmap='Blues', cbar=False)\n",
        "plt.title('Matriz de Confusão OVA')\n",
        "plt.xlabel('Classe Prevista')\n",
        "plt.ylabel('Classe Verdadeira')\n",
        "plt.show()\n",
        "\n",
        "# Matriz de confusão para OVO\n",
        "cm_ovo = confusion_matrix(y_test, y_pred_ovo)\n",
        "\n",
        "# Plot da matriz de confusão\n",
        "plt.figure(figsize=(8, 6))\n",
        "sns.heatmap(cm_ovo, annot=True, fmt='d', cmap='Blues', cbar=False)\n",
        "plt.title('Matriz de Confusão OVO')\n",
        "plt.xlabel('Classe Prevista')\n",
        "plt.ylabel('Classe Verdadeira')\n",
        "plt.show()\n"
      ],
      "metadata": {
        "id": "9xoMvvNFwGcz"
      },
      "execution_count": null,
      "outputs": []
    },
    {
      "cell_type": "markdown",
      "source": [
        "# Análise das Matrizes de Confusão\n",
        "\n",
        "\n",
        "As matrizes de confusão são uma excelente ferramenta para analisar o desempenho de um classificador, fornecendo uma visão detalhada das previsões corretas e incorretas. A seguir, são discutidas as matrizes de confusão geradas para as abordagens **OVA (One-vs-All)** e **OVO (One-vs-One)**.\n",
        "\n",
        "## 1. Matriz de Confusão OVA 🤔\n",
        "\n",
        "A matriz de confusão da abordagem **OVA** (One-vs-All) mostra que, embora o classificador tenha tido um desempenho geral satisfatório, existem algumas confusões notáveis entre as classes:\n",
        "\n",
        "- A classe **1 (Normal Weight)** foi frequentemente confundida com as classes **5** e **6** (Obesity Type II e III), com **18 previsões erradas**. Isso indica que o modelo teve dificuldades em distinguir entre essas classes de maior obesidade.\n",
        "- A classe **5 (Obesity Type II)** foi prevista corretamente **64 vezes**, mas foi confundida com a classe **6** em **18 instâncias**. Isso é esperado, já que essas classes representam estágios avançados de obesidade, o que pode gerar uma sobreposição nas características preditivas.\n",
        "- Para a classe **0 (Insufficient Weight)**, o modelo acertou a maioria das previsões (**79 previsões corretas**), mas houve **5 confusões com a classe 6 (Obesity Type III)**, o que sugere uma certa dificuldade em distinguir entre extremos opostos do espectro.\n",
        "\n",
        "### 1.1. Conclusão OVA\n",
        "\n",
        "O classificador OVA tem uma tendência a confundir classes adjacentes ou opostas, como **Insufficient Weight** e **Obesity Type III**, e classes intermediárias de obesidade (**Obesity Type II e III**). Isso pode indicar que o modelo OVA não é capaz de capturar nuances específicas entre classes multiclasse.\n",
        "\n",
        "## 2. Matriz de Confusão OVO 💡\n",
        "\n",
        "A matriz de confusão da abordagem **OVO** (One-vs-One) apresenta um desempenho ligeiramente superior em comparação com a abordagem OVA:\n",
        "\n",
        "- A classe **1 (Normal Weight)** teve um desempenho melhor, com **77 previsões corretas**, mas ainda houve confusão com as classes **5** e **6**, com **12 e 3 previsões erradas**, respectivamente.\n",
        "- A classe **5 (Obesity Type II)**, que foi uma das mais confusas no OVA, melhorou seu desempenho aqui, com **73 previsões corretas** e **8 confusões com a classe 6**. Ainda assim, essa confusão é esperada devido às semelhanças entre os dois tipos de obesidade.\n",
        "- A classe **0 (Insufficient Weight)** foi prevista corretamente **82 vezes**, o que representa um pequeno aumento de desempenho em relação ao OVA. A confusão com a classe **6 (Obesity Type III)** diminuiu significativamente, com apenas **2 previsões incorretas**, mostrando que o modelo OVO foi mais eficiente ao lidar com os extremos do espectro.\n",
        "\n",
        "### 2.1. Conclusão OVO\n",
        "\n",
        "A abordagem **OVO** claramente melhora a capacidade do modelo de separar classes semelhantes, como visto nas menores confusões entre as classes intermediárias e extremas. O modelo consegue capturar melhor as diferenças entre as classes, resultando em uma matriz de confusão mais limpa e com menos confusões.\n",
        "\n",
        "## 3. Comparação Geral 🔄\n",
        "\n",
        "- **OVA** mostrou confusões significativas entre classes intermediárias e classes opostas, como **Insufficient Weight** e **Obesity Type III**.\n",
        "- **OVO** reduziu essas confusões, principalmente entre as classes **Insufficient Weight** e **Obesity Type III**, e melhorou a separação das classes intermediárias, como **Obesity Type II** e **Obesity Type III**.\n",
        "\n",
        "Com base nas matrizes de confusão, podemos concluir que a abordagem **OVO** oferece um desempenho superior em termos de separação de classes e reduz a taxa de confusões entre as classes mais semelhantes.\n",
        "\n",
        "## 4. Conclusão Final 📌\n",
        "\n",
        "A análise das matrizes de confusão confirma os resultados anteriores, indicando que a abordagem **OVO** (One-vs-One) é a mais eficaz para este problema multiclasse. O modelo conseguiu separar melhor as classes, reduzindo a confusão entre elas, especialmente para as classes mais semelhantes, como os diferentes tipos de obesidade.\n"
      ],
      "metadata": {
        "id": "FKpcCOa_xUNW"
      }
    }
  ]
}